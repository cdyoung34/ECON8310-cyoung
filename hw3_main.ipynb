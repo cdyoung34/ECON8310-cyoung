{
 "cells": [
  {
   "cell_type": "code",
   "execution_count": 3,
   "metadata": {},
   "outputs": [],
   "source": [
    "import pandas as pd\n",
    "import gzip\n",
    "import numpy as np\n",
    "import matplotlib.pyplot as plt\n",
    "import torch\n",
    "import torch.nn as nn\n",
    "import torch.nn.functional as F\n",
    "from torch.utils.data import Dataset\n",
    "from torch.utils.data import DataLoader\n",
    "from urllib.request import urlopen\n"
   ]
  },
  {
   "cell_type": "markdown",
   "metadata": {},
   "source": [
    "# Custom data loader"
   ]
  },
  {
   "cell_type": "code",
   "execution_count": 4,
   "metadata": {},
   "outputs": [],
   "source": [
    "class CustomFashionMNIST(Dataset):\n",
    "    def __init__(self, labels_url, images_url):\n",
    "        # read in our images raw data from the hosting URL\n",
    "        with urlopen(labels_url) as lbpath:\n",
    "            with gzip.GzipFile(fileobj=lbpath) as lbfile:\n",
    "                self.labels = np.frombuffer(\n",
    "                    lbfile.read(),\n",
    "                    dtype=np.uint8,\n",
    "                    offset=8)\n",
    "        with urlopen(images_url) as imgpath:\n",
    "            with gzip.GzipFile(fileobj=imgpath) as imgfile:\n",
    "                self.images = (np.frombuffer(\n",
    "                    imgfile.read(),\n",
    "                    dtype=np.uint8,\n",
    "                    offset=16)\n",
    "                # reshape so that each record/image is a 28x28 matrix (each image has 28 pixels)\n",
    "                .reshape(len(self.labels), 28, 28))\n",
    "\n",
    "    # return the length of the complete data set\n",
    "    #   to be used in internal calculations for pytorch\n",
    "    def __len__(self):\n",
    "        return self.labels.shape[0]\n",
    "\n",
    "    # retrieve a single record based on index position `index`\n",
    "    def __getitem__(self, index):\n",
    "        # extract the image and label\n",
    "        image = self.images[index]  # will get the 28x28 image at the given index\n",
    "        label = self.labels[index]  # will get the label corresponding to the image\n",
    "\n",
    "        # Specify dtype to align with default dtype used by weight matrices\n",
    "        image = torch.tensor(image, dtype=torch.float32)\n",
    "\n",
    "        # return the image and its corresponding label\n",
    "        return image, label"
   ]
  },
  {
   "cell_type": "code",
   "execution_count": 5,
   "metadata": {},
   "outputs": [],
   "source": [
    "train_images_url = 'https://raw.githubusercontent.com/zalandoresearch/fashion-mnist/master/data/fashion/train-images-idx3-ubyte.gz'\n",
    "train_labels_url = 'https://raw.githubusercontent.com/zalandoresearch/fashion-mnist/master/data/fashion/train-labels-idx1-ubyte.gz'\n",
    "test_images_url = 'https://raw.githubusercontent.com/zalandoresearch/fashion-mnist/master/data/fashion/t10k-images-idx3-ubyte.gz'\n",
    "test_labels_url = 'https://raw.githubusercontent.com/zalandoresearch/fashion-mnist/master/data/fashion/t10k-labels-idx1-ubyte.gz'\n",
    "\n",
    "# Load our data into memory\n",
    "train_data = CustomFashionMNIST(train_labels_url, train_images_url)\n",
    "test_data = CustomFashionMNIST(test_labels_url, test_images_url)\n",
    "\n",
    "# Create data feed pipelines for modeling\n",
    "train_dataloader = DataLoader(train_data, batch_size=64)\n",
    "test_dataloader = DataLoader(test_data, batch_size=64)\n"
   ]
  },
  {
   "cell_type": "code",
   "execution_count": 6,
   "metadata": {},
   "outputs": [
    {
     "name": "stdout",
     "output_type": "stream",
     "text": [
      "This image is labeled a 9\n"
     ]
    },
    {
     "data": {
      "text/plain": [
       "<matplotlib.image.AxesImage at 0x20e10e3c790>"
      ]
     },
     "execution_count": 6,
     "metadata": {},
     "output_type": "execute_result"
    },
    {
     "data": {
      "image/png": "[encoded data removed]",
      "text/plain": [
       "<Figure size 640x480 with 1 Axes>"
      ]
     },
     "metadata": {},
     "output_type": "display_data"
    }
   ],
   "source": [
    "idx=0\n",
    "print(f\"This image is labeled a {train_data.__getitem__(idx)[1]}\")\n",
    "plt.imshow(train_data.__getitem__(idx)[0].reshape(28, 28))"
   ]
  },
  {
   "cell_type": "markdown",
   "metadata": {},
   "source": [
    "# Build Neural Net"
   ]
  },
  {
   "cell_type": "code",
   "execution_count": 7,
   "metadata": {},
   "outputs": [],
   "source": [
    "class MyNeuralNet(nn.Module):\n",
    "    def __init__(self):\n",
    "      # We define the components of our model here\n",
    "      super(MyNeuralNet, self).__init__()\n",
    "      # Function to flatten our image\n",
    "      self.flatten = nn.Flatten()\n",
    "      # Create the sequence of our network\n",
    "      self.linear_relu_model = nn.Sequential(\n",
    "            # Add a linear output layer w/ 10 perceptrons\n",
    "            nn.LazyLinear(10),\n",
    "        )\n",
    "      \n",
    "    def forward(self, x):\n",
    "      # We construct the sequencing of our model here\n",
    "      x = self.flatten(x)\n",
    "      # Pass flattened images through our sequence\n",
    "      output = self.linear_relu_model(x)\n",
    "\n",
    "      # Return the evaluations of our ten \n",
    "      #   classes as a 10-dimensional vector\n",
    "      return output\n",
    "\n",
    "# Create an instance of our model\n",
    "model = MyNeuralNet()"
   ]
  },
  {
   "cell_type": "markdown",
   "metadata": {},
   "source": [
    "# Prepare to train the model"
   ]
  },
  {
   "cell_type": "code",
   "execution_count": 8,
   "metadata": {},
   "outputs": [],
   "source": [
    "# Define some training parameters\n",
    "learning_rate = 1e-2\n",
    "batch_size = 64\n",
    "epochs = 20 \n",
    "\n",
    "# Define our loss function\n",
    "#   This one works for multiclass problems\n",
    "loss_fn = nn.CrossEntropyLoss()"
   ]
  },
  {
   "cell_type": "code",
   "execution_count": 9,
   "metadata": {},
   "outputs": [],
   "source": [
    "# Build our optimizer with the parameters from\n",
    "#   the model we defined, and the learning rate\n",
    "#   that we picked\n",
    "optimizer = torch.optim.SGD(model.parameters(),\n",
    "     lr=learning_rate)"
   ]
  },
  {
   "cell_type": "code",
   "execution_count": 10,
   "metadata": {},
   "outputs": [],
   "source": [
    "def train_loop(dataloader, model, loss_fn, optimizer):\n",
    "    size = len(dataloader.dataset)\n",
    "    # Set the model to training mode\n",
    "    # important for batch normalization and dropout layers\n",
    "    # Unnecessary in this situation but added for best practices\n",
    "    model.train()\n",
    "    # Loop over batches via the dataloader\n",
    "    for batch, (X, y) in enumerate(dataloader):\n",
    "        # Compute prediction and loss\n",
    "        pred = model(X)\n",
    "        loss = loss_fn(pred, y)\n",
    "\n",
    "        # Backpropagation and looking for improved gradients\n",
    "        loss.backward()\n",
    "        optimizer.step()\n",
    "        # Zeroing out the gradient (otherwise they are summed)\n",
    "        #   in preparation for next round\n",
    "        optimizer.zero_grad()\n",
    "\n",
    "        # Print progress update every few loops\n",
    "        if batch % 10 == 0:\n",
    "            loss, current = loss.item(), (batch + 1) * len(X)\n",
    "            # print(f\"loss: {loss:>7f}  [{current:>5d}/{size:>5d}]\")"
   ]
  },
  {
   "cell_type": "markdown",
   "metadata": {},
   "source": [
    "## Prepare to test"
   ]
  },
  {
   "cell_type": "code",
   "execution_count": 11,
   "metadata": {},
   "outputs": [],
   "source": [
    "def test_loop(dataloader, model, loss_fn):\n",
    "    # Set the model to evaluation mode\n",
    "    # important for batch normalization and dropout layers\n",
    "    # Unnecessary in this situation but added for best practices\n",
    "    model.eval()\n",
    "    size = len(dataloader.dataset)\n",
    "    num_batches = len(dataloader)\n",
    "    test_loss, correct = 0, 0\n",
    "\n",
    "    # Evaluating the model with torch.no_grad() ensures\n",
    "    # that no gradients are computed during test mode\n",
    "    # also serves to reduce unnecessary gradient computations\n",
    "    # and memory usage for tensors with requires_grad=True\n",
    "    with torch.no_grad():\n",
    "        for X, y in dataloader:\n",
    "            pred = model(X)\n",
    "            test_loss += loss_fn(pred, y).item()\n",
    "            correct += (pred.argmax(1) == y).type(torch.float).sum().item()\n",
    "\n",
    "    # Printing some output after a testing round\n",
    "    test_loss /= num_batches\n",
    "    correct /= size\n",
    "    print(f\"Test Error: \\n Accuracy: {(100*correct):>0.1f}%, Avg loss: {test_loss:>8f} \\n\")"
   ]
  },
  {
   "cell_type": "code",
   "execution_count": 12,
   "metadata": {},
   "outputs": [
    {
     "name": "stdout",
     "output_type": "stream",
     "text": [
      "Epoch 1\n",
      "-------------------------------\n",
      "Test Error: \n",
      " Accuracy: 69.0%, Avg loss: 1787.399737 \n",
      "\n",
      "Epoch 2\n",
      "-------------------------------\n",
      "Test Error: \n",
      " Accuracy: 73.0%, Avg loss: 1391.897253 \n",
      "\n",
      "Epoch 3\n",
      "-------------------------------\n",
      "Test Error: \n",
      " Accuracy: 69.1%, Avg loss: 2281.276350 \n",
      "\n",
      "Epoch 4\n",
      "-------------------------------\n",
      "Test Error: \n",
      " Accuracy: 69.5%, Avg loss: 2592.514950 \n",
      "\n",
      "Epoch 5\n",
      "-------------------------------\n",
      "Test Error: \n",
      " Accuracy: 75.1%, Avg loss: 1327.762304 \n",
      "\n",
      "Epoch 6\n",
      "-------------------------------\n",
      "Test Error: \n",
      " Accuracy: 68.2%, Avg loss: 2185.309097 \n",
      "\n",
      "Epoch 7\n",
      "-------------------------------\n",
      "Test Error: \n",
      " Accuracy: 74.6%, Avg loss: 1293.735076 \n",
      "\n",
      "Epoch 8\n",
      "-------------------------------\n",
      "Test Error: \n",
      " Accuracy: 68.5%, Avg loss: 2173.924466 \n",
      "\n",
      "Epoch 9\n",
      "-------------------------------\n",
      "Test Error: \n",
      " Accuracy: 68.9%, Avg loss: 2640.198149 \n",
      "\n",
      "Epoch 10\n",
      "-------------------------------\n",
      "Test Error: \n",
      " Accuracy: 72.6%, Avg loss: 1657.243009 \n",
      "\n",
      "Epoch 11\n",
      "-------------------------------\n",
      "Test Error: \n",
      " Accuracy: 72.8%, Avg loss: 2526.800074 \n",
      "\n",
      "Epoch 12\n",
      "-------------------------------\n",
      "Test Error: \n",
      " Accuracy: 76.8%, Avg loss: 1346.306677 \n",
      "\n",
      "Epoch 13\n",
      "-------------------------------\n",
      "Test Error: \n",
      " Accuracy: 72.8%, Avg loss: 1977.667003 \n",
      "\n",
      "Epoch 14\n",
      "-------------------------------\n",
      "Test Error: \n",
      " Accuracy: 69.3%, Avg loss: 2179.625580 \n",
      "\n",
      "Epoch 15\n",
      "-------------------------------\n",
      "Test Error: \n",
      " Accuracy: 65.5%, Avg loss: 2929.245579 \n",
      "\n",
      "Epoch 16\n",
      "-------------------------------\n",
      "Test Error: \n",
      " Accuracy: 67.4%, Avg loss: 2491.300147 \n",
      "\n",
      "Epoch 17\n",
      "-------------------------------\n",
      "Test Error: \n",
      " Accuracy: 68.8%, Avg loss: 2129.905195 \n",
      "\n",
      "Epoch 18\n",
      "-------------------------------\n",
      "Test Error: \n",
      " Accuracy: 72.2%, Avg loss: 1677.720336 \n",
      "\n",
      "Epoch 19\n",
      "-------------------------------\n",
      "Test Error: \n",
      " Accuracy: 72.5%, Avg loss: 1857.052485 \n",
      "\n",
      "Epoch 20\n",
      "-------------------------------\n",
      "Test Error: \n",
      " Accuracy: 72.3%, Avg loss: 1691.721852 \n",
      "\n",
      "Done!\n"
     ]
    }
   ],
   "source": [
    "# Need to repeat the training process for each epoch.\n",
    "#   In each epoch, the model will eventually see EVERY\n",
    "#   observations in the data\n",
    "for t in range(epochs):\n",
    "    print(f\"Epoch {t+1}\\n-------------------------------\")\n",
    "    train_loop(train_dataloader, model, loss_fn, optimizer)\n",
    "    test_loop(test_dataloader, model, loss_fn)\n",
    "print(\"Done!\")"
   ]
  },
  {
   "cell_type": "markdown",
   "metadata": {},
   "source": [
    "# Store weights"
   ]
  },
  {
   "cell_type": "code",
   "execution_count": 13,
   "metadata": {},
   "outputs": [],
   "source": [
    "# Save our model for later, so we can train more or make predictions\n",
    "EPOCH = epochs\n",
    "# We use the .pt file extension by convention for saving\n",
    "#    pytorch models\n",
    "PATH = \"model.pt\"\n",
    "\n",
    "# The save function creates a binary storing all our data for us\n",
    "torch.save({\n",
    "            'epoch': EPOCH,\n",
    "            'model_state_dict': model.state_dict(),\n",
    "            'optimizer_state_dict': optimizer.state_dict(),\n",
    "            }, PATH)"
   ]
  }
 ],
 "metadata": {
  "kernelspec": {
   "display_name": "Python 3",
   "language": "python",
   "name": "python3"
  },
  "language_info": {
   "codemirror_mode": {
    "name": "ipython",
    "version": 3
   },
   "file_extension": ".py",
   "mimetype": "text/x-python",
   "name": "python",
   "nbconvert_exporter": "python",
   "pygments_lexer": "ipython3",
   "version": "3.9.7"
  }
 },
 "nbformat": 4,
 "nbformat_minor": 2
}
